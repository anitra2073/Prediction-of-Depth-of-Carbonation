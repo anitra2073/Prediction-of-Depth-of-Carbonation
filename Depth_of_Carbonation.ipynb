{
  "nbformat": 4,
  "nbformat_minor": 0,
  "metadata": {
    "colab": {
      "name": "Depth of Carbonation",
      "provenance": [],
      "collapsed_sections": []
    },
    "kernelspec": {
      "name": "python3",
      "display_name": "Python 3"
    }
  },
  "cells": [
    {
      "cell_type": "markdown",
      "metadata": {
        "id": "2H2qWb1yxbxm"
      },
      "source": [
        "## Importing Library"
      ]
    },
    {
      "cell_type": "code",
      "metadata": {
        "id": "IxtCr8FpeYcY"
      },
      "source": [
        "import numpy as np\n",
        "import matplotlib.pyplot as plt\n",
        "import math as m"
      ],
      "execution_count": 1,
      "outputs": []
    },
    {
      "cell_type": "markdown",
      "metadata": {
        "id": "lM5U7ozvugSC"
      },
      "source": [
        "## Variable Declare (User Input)"
      ]
    },
    {
      "cell_type": "code",
      "metadata": {
        "id": "0rHKJb14TAmg"
      },
      "source": [
        "interval=0.01\n",
        "upper=60\n",
        "lower=0"
      ],
      "execution_count": 2,
      "outputs": []
    },
    {
      "cell_type": "markdown",
      "metadata": {
        "id": "SXeJEZ1euSUT"
      },
      "source": [
        "## Temperature Variable Declare (User Input)"
      ]
    },
    {
      "cell_type": "code",
      "metadata": {
        "id": "fsCEh81Dua4_"
      },
      "source": [
        "svariation=.4\n",
        "max = 39.6\n",
        "min = 8.7\n",
        "starttemp = 26.75\n",
        "#endtemp = 26.5"
      ],
      "execution_count": 3,
      "outputs": []
    },
    {
      "cell_type": "markdown",
      "metadata": {
        "id": "2Sa6M_zF9XN2"
      },
      "source": [
        "## Depth of Carbonation Variable Declare (User Input)"
      ]
    },
    {
      "cell_type": "code",
      "metadata": {
        "id": "-A6cQkv_9hRy"
      },
      "source": [
        "wcratio=0.35"
      ],
      "execution_count": 4,
      "outputs": []
    },
    {
      "cell_type": "markdown",
      "metadata": {
        "id": "IgMiSTyetzPo"
      },
      "source": [
        "## Matrix Declare"
      ]
    },
    {
      "cell_type": "markdown",
      "metadata": {
        "id": "pmMbgWKewPOd"
      },
      "source": [
        "Matrix Size"
      ]
    },
    {
      "cell_type": "code",
      "metadata": {
        "id": "5v5YaDXGwOiG",
        "colab": {
          "base_uri": "https://localhost:8080/"
        },
        "outputId": "3bb76620-3217-4763-9a3f-97aa143f4d06"
      },
      "source": [
        "asize = m.ceil(((upper-lower)/interval)+1)\n",
        "print(int(asize))"
      ],
      "execution_count": 5,
      "outputs": [
        {
          "output_type": "stream",
          "text": [
            "6001\n"
          ],
          "name": "stdout"
        }
      ]
    },
    {
      "cell_type": "code",
      "metadata": {
        "id": "L0Zijpbn_VGL"
      },
      "source": [
        "kt = np.zeros(int(asize))\n",
        "time= np.zeros(int(asize))\n",
        "co = np.zeros(int(asize))\n",
        "RH = np.zeros(int(asize))\n",
        "X = np.zeros(int(asize))\n",
        "tavg=np.zeros(int(asize))\n",
        "X1 = np.zeros(int(asize))"
      ],
      "execution_count": 6,
      "outputs": []
    },
    {
      "cell_type": "markdown",
      "metadata": {
        "id": "xskz0O8Rr3kW"
      },
      "source": [
        "## TIME"
      ]
    },
    {
      "cell_type": "code",
      "metadata": {
        "id": "t3-vQ8DhTDbf"
      },
      "source": [
        "x=0\n",
        "#print(time[1980])\n",
        "for t in np.arange(lower,(upper+interval/2),interval):\n",
        " time[x]=t\n",
        " x+=1 "
      ],
      "execution_count": 7,
      "outputs": []
    },
    {
      "cell_type": "code",
      "metadata": {
        "colab": {
          "base_uri": "https://localhost:8080/"
        },
        "id": "J0BUzTEdrx__",
        "outputId": "1f5f6b10-bb15-461e-bb5d-ee13afeb2b50"
      },
      "source": [
        "print(time)"
      ],
      "execution_count": 8,
      "outputs": [
        {
          "output_type": "stream",
          "text": [
            "[0.000e+00 1.000e-02 2.000e-02 ... 5.998e+01 5.999e+01 6.000e+01]\n"
          ],
          "name": "stdout"
        }
      ]
    },
    {
      "cell_type": "markdown",
      "metadata": {
        "id": "FVuTn6Eer84D"
      },
      "source": [
        "## Temperature Prediction"
      ]
    },
    {
      "cell_type": "markdown",
      "metadata": {
        "id": "rTGzqH0NyI1c"
      },
      "source": [
        "Average Temperature Variation"
      ]
    },
    {
      "cell_type": "code",
      "metadata": {
        "id": "Zplhorjkx87B"
      },
      "source": [
        "x=0\n",
        "a= starttemp\n",
        "for t in np.arange(lower,(upper+interval/2),interval):\n",
        "  tavg[x]= a+ (0.018*t)\n",
        "\n",
        "  x+=1"
      ],
      "execution_count": 9,
      "outputs": []
    },
    {
      "cell_type": "code",
      "metadata": {
        "id": "k7NuTdVuztw2",
        "colab": {
          "base_uri": "https://localhost:8080/",
          "height": 296
        },
        "outputId": "307ec71f-5ee8-47fb-f542-264dcddfb6a6"
      },
      "source": [
        "plt.plot(time,tavg)\n",
        "plt.xlabel(\"Year\")\n",
        "plt.ylabel(\"Avg. Temp.\")\n",
        "plt.show"
      ],
      "execution_count": 10,
      "outputs": [
        {
          "output_type": "execute_result",
          "data": {
            "text/plain": [
              "<function matplotlib.pyplot.show>"
            ]
          },
          "metadata": {
            "tags": []
          },
          "execution_count": 10
        },
        {
          "output_type": "display_data",
          "data": {
            "image/png": "[encoded data removed]",
            "text/plain": [
              "<Figure size 432x288 with 1 Axes>"
            ]
          },
          "metadata": {
            "tags": [],
            "needs_background": "light"
          }
        }
      ]
    },
    {
      "cell_type": "markdown",
      "metadata": {
        "id": "eWelNG2b4I1h"
      },
      "source": [
        "Temperature Values Per Intervals"
      ]
    },
    {
      "cell_type": "code",
      "metadata": {
        "id": "-eZCS-g1XSeD"
      },
      "source": [
        "x=1\n",
        "y=0\n",
        "trange1 =(tavg[0]-min)\n",
        "trange2=(max-tavg[0])\n",
        "for t in np.arange(lower,(upper+interval/2),interval):\n",
        " if ((t-m.floor(t))<=svariation):\n",
        "  \n",
        "  kt[y]= tavg[y] - trange1* m.sin (((t- m.floor(t))/svariation)*m.pi)\n",
        "\n",
        "  \n",
        "  y+=1\n",
        " else :\n",
        "  kt[y]= tavg[y] + trange2* m.sin(((t- m.floor(t)-svariation)/(1-svariation))*m.pi)\n",
        " \n",
        "  \n",
        "  y+=1\n",
        " x+=1 "
      ],
      "execution_count": 11,
      "outputs": []
    },
    {
      "cell_type": "code",
      "metadata": {
        "id": "NptrccfuXVt9",
        "colab": {
          "base_uri": "https://localhost:8080/"
        },
        "outputId": "11b735f3-b7cd-446a-d855-0f91e7501074"
      },
      "source": [
        "print (kt)"
      ],
      "execution_count": 12,
      "outputs": [
        {
          "output_type": "stream",
          "text": [
            "[26.75       25.33399332 23.92671791 ... 29.17283075 28.50233704\n",
            " 27.83      ]\n"
          ],
          "name": "stdout"
        }
      ]
    },
    {
      "cell_type": "code",
      "metadata": {
        "colab": {
          "base_uri": "https://localhost:8080/",
          "height": 296
        },
        "id": "_C_G9RvpatuI",
        "outputId": "736e8722-a45a-4146-f42e-55f75ca4b495"
      },
      "source": [
        "plt.plot(time,kt)\n",
        "plt.xlabel(\"Year\")\n",
        "plt.ylabel(\"Temp.\")\n",
        "plt.show"
      ],
      "execution_count": 13,
      "outputs": [
        {
          "output_type": "execute_result",
          "data": {
            "text/plain": [
              "<function matplotlib.pyplot.show>"
            ]
          },
          "metadata": {
            "tags": []
          },
          "execution_count": 13
        },
        {
          "output_type": "display_data",
          "data": {
            "image/png": "[encoded data removed]",
            "text/plain": [
              "<Figure size 432x288 with 1 Axes>"
            ]
          },
          "metadata": {
            "tags": [],
            "needs_background": "light"
          }
        }
      ]
    },
    {
      "cell_type": "markdown",
      "metadata": {
        "id": "ZIwST_buig4o"
      },
      "source": [
        "## CO2 Prediction"
      ]
    },
    {
      "cell_type": "code",
      "metadata": {
        "id": "ZcTbqkwNitBy"
      },
      "source": [
        "x=0\n",
        "for t in np.arange(lower,(upper+interval/2),interval):\n",
        " co[x]= (2.2942*t) + 367.26\n",
        " x+=1"
      ],
      "execution_count": 14,
      "outputs": []
    },
    {
      "cell_type": "code",
      "metadata": {
        "colab": {
          "base_uri": "https://localhost:8080/"
        },
        "id": "FRBJA0x_uHkM",
        "outputId": "0a0c7294-3168-4dfc-f34f-68b2892d8b36"
      },
      "source": [
        "print (co)"
      ],
      "execution_count": 15,
      "outputs": [
        {
          "output_type": "stream",
          "text": [
            "[367.26     367.282942 367.305884 ... 504.866116 504.889058 504.912   ]\n"
          ],
          "name": "stdout"
        }
      ]
    },
    {
      "cell_type": "code",
      "metadata": {
        "colab": {
          "base_uri": "https://localhost:8080/",
          "height": 296
        },
        "id": "HYggaRypvwST",
        "outputId": "bccf0ed2-b121-4206-c974-b4648c210e9a"
      },
      "source": [
        "plt.plot(time,co)\n",
        "plt.xlabel(\"Year\")\n",
        "plt.ylabel(\"CO2\")\n",
        "plt.show"
      ],
      "execution_count": 16,
      "outputs": [
        {
          "output_type": "execute_result",
          "data": {
            "text/plain": [
              "<function matplotlib.pyplot.show>"
            ]
          },
          "metadata": {
            "tags": []
          },
          "execution_count": 16
        },
        {
          "output_type": "display_data",
          "data": {
            "image/png": "[encoded data removed]",
            "text/plain": [
              "<Figure size 432x288 with 1 Axes>"
            ]
          },
          "metadata": {
            "tags": [],
            "needs_background": "light"
          }
        }
      ]
    },
    {
      "cell_type": "markdown",
      "metadata": {
        "id": "0y6KB6rb10VM"
      },
      "source": [
        "## Humidity Prediction"
      ]
    },
    {
      "cell_type": "code",
      "metadata": {
        "id": "9nBPW0LlwpKg"
      },
      "source": [
        "x=0\n",
        "for t in np.arange(lower, (upper+interval/2),interval):\n",
        " \n",
        " RH[x]= 50.0 - 0.0363*t\n",
        " \n",
        " x+=1"
      ],
      "execution_count": 17,
      "outputs": []
    },
    {
      "cell_type": "code",
      "metadata": {
        "colab": {
          "base_uri": "https://localhost:8080/"
        },
        "id": "jME009CaA1kf",
        "outputId": "9b9207ce-fb13-412e-d9a3-fe515b802bb9"
      },
      "source": [
        "print(RH)"
      ],
      "execution_count": 18,
      "outputs": [
        {
          "output_type": "stream",
          "text": [
            "[50.       49.999637 49.999274 ... 47.822726 47.822363 47.822   ]\n"
          ],
          "name": "stdout"
        }
      ]
    },
    {
      "cell_type": "code",
      "metadata": {
        "colab": {
          "base_uri": "https://localhost:8080/",
          "height": 296
        },
        "id": "r-wO1TZf8MFa",
        "outputId": "1a073a61-1cc3-46fe-fc2a-0901d17ad533"
      },
      "source": [
        "plt.plot(time, RH)\n",
        "plt.xlabel(\"Year\")\n",
        "plt.ylabel(\"RH\")\n",
        "plt.show"
      ],
      "execution_count": 19,
      "outputs": [
        {
          "output_type": "execute_result",
          "data": {
            "text/plain": [
              "<function matplotlib.pyplot.show>"
            ]
          },
          "metadata": {
            "tags": []
          },
          "execution_count": 19
        },
        {
          "output_type": "display_data",
          "data": {
            "image/png": "[encoded data removed]",
            "text/plain": [
              "<Figure size 432x288 with 1 Axes>"
            ]
          },
          "metadata": {
            "tags": [],
            "needs_background": "light"
          }
        }
      ]
    },
    {
      "cell_type": "markdown",
      "metadata": {
        "id": "wASqDDW2yCv3"
      },
      "source": [
        "## Depth of Carbonation"
      ]
    },
    {
      "cell_type": "code",
      "metadata": {
        "id": "0u-oVKfjBfo0"
      },
      "source": [
        "y=0\n",
        "z=0\n",
        "for t in np.arange(lower,(upper+interval/2),interval):\n",
        " time[z]=t\n",
        " z+=1\n",
        " s= m.sqrt(co[y])\n",
        " r= m.pow(RH[y],-0.4227)\n",
        " k= m.pow(kt[y],0.7154)\n",
        " w= m.pow(.35,1.3401)\n",
        " \n",
        " a1=m.sqrt(t)\n",
        "  \n",
        " if (y>0):\n",
        "  u=X[y-1]/(0.3785*s*k*r*w)\n",
        "  v=m.pow(u,2)\n",
        "  q=v+interval\n",
        "  X[y] =  0.3785*s*k*r*w*m.sqrt(q)\n",
        "  #Xc[y] = 0.3785*s*k*r*w*m.sqrt(t)\n",
        "  #print(X[y],Xc[y])\n",
        " else :\n",
        "  X[y] =  0.3785*s*k*r*w*a1\n",
        " y+=1"
      ],
      "execution_count": 20,
      "outputs": []
    },
    {
      "cell_type": "code",
      "metadata": {
        "id": "1RPg4jRSEZme",
        "colab": {
          "base_uri": "https://localhost:8080/"
        },
        "outputId": "c8fe1b1e-b970-47e7-e5a8-96c49bdfec7f"
      },
      "source": [
        "print(X)"
      ],
      "execution_count": 21,
      "outputs": [
        {
          "output_type": "stream",
          "text": [
            "[ 0.          0.34326392  0.47583178 ... 31.89741474 31.90053517\n",
            " 31.90355069]\n"
          ],
          "name": "stdout"
        }
      ]
    },
    {
      "cell_type": "code",
      "metadata": {
        "id": "E13IuOmpEhbt",
        "colab": {
          "base_uri": "https://localhost:8080/",
          "height": 296
        },
        "outputId": "a82aba18-1588-4a58-b18d-73ff0e7e4aef"
      },
      "source": [
        "plt.plot(time,X)\n",
        "plt.xlabel(\"Year\")\n",
        "plt.ylabel(\"Depth(mm)\")\n",
        "plt.show"
      ],
      "execution_count": 22,
      "outputs": [
        {
          "output_type": "execute_result",
          "data": {
            "text/plain": [
              "<function matplotlib.pyplot.show>"
            ]
          },
          "metadata": {
            "tags": []
          },
          "execution_count": 22
        },
        {
          "output_type": "display_data",
          "data": {
            "image/png": "[encoded data removed]",
            "text/plain": [
              "<Figure size 432x288 with 1 Axes>"
            ]
          },
          "metadata": {
            "tags": [],
            "needs_background": "light"
          }
        }
      ]
    },
    {
      "cell_type": "code",
      "metadata": {
        "id": "cOVFQDTBKOkG"
      },
      "source": [
        ""
      ],
      "execution_count": 22,
      "outputs": []
    }
  ]
}